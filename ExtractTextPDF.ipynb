{
 "cells": [
  {
   "cell_type": "code",
   "execution_count": 1,
   "id": "3eda71ba",
   "metadata": {},
   "outputs": [
    {
     "name": "stdout",
     "output_type": "stream",
     "text": [
      "Requirement already satisfied: PyPDF2 in /Users/umairsalam/anaconda3/lib/python3.10/site-packages (3.0.1)\n",
      "Note: you may need to restart the kernel to use updated packages.\n"
     ]
    }
   ],
   "source": [
    "pip install PyPDF2"
   ]
  },
  {
   "cell_type": "code",
   "execution_count": 13,
   "id": "83c32c04",
   "metadata": {},
   "outputs": [],
   "source": [
    "import PyPDF2"
   ]
  },
  {
   "cell_type": "code",
   "execution_count": 14,
   "id": "d73e16ae",
   "metadata": {},
   "outputs": [
    {
     "data": {
      "text/plain": [
       "'3.0.1'"
      ]
     },
     "execution_count": 14,
     "metadata": {},
     "output_type": "execute_result"
    }
   ],
   "source": [
    "PyPDF2.__version__"
   ]
  },
  {
   "cell_type": "code",
   "execution_count": 82,
   "id": "fccc0bb8",
   "metadata": {},
   "outputs": [],
   "source": [
    "inputFile = \"eng_80_pages_1_14.pdf\"\n",
    "pdf = open(inputFile, \"rb\")"
   ]
  },
  {
   "cell_type": "code",
   "execution_count": 84,
   "id": "e899ce1e",
   "metadata": {},
   "outputs": [
    {
     "data": {
      "text/plain": [
       "<PyPDF2._reader.PdfReader at 0x107fccd00>"
      ]
     },
     "execution_count": 84,
     "metadata": {},
     "output_type": "execute_result"
    }
   ],
   "source": [
    "pdf_reader = PyPDF2.PdfReader(pdf)\n",
    "pdf_reader"
   ]
  },
  {
   "cell_type": "code",
   "execution_count": 20,
   "id": "8b2bd2ef",
   "metadata": {},
   "outputs": [
    {
     "data": {
      "text/plain": [
       "['__class__',\n",
       " '__delattr__',\n",
       " '__dict__',\n",
       " '__dir__',\n",
       " '__doc__',\n",
       " '__eq__',\n",
       " '__format__',\n",
       " '__ge__',\n",
       " '__getattribute__',\n",
       " '__gt__',\n",
       " '__hash__',\n",
       " '__init__',\n",
       " '__init_subclass__',\n",
       " '__le__',\n",
       " '__lt__',\n",
       " '__module__',\n",
       " '__ne__',\n",
       " '__new__',\n",
       " '__reduce__',\n",
       " '__reduce_ex__',\n",
       " '__repr__',\n",
       " '__setattr__',\n",
       " '__sizeof__',\n",
       " '__str__',\n",
       " '__subclasshook__',\n",
       " '__weakref__',\n",
       " '_basic_validation',\n",
       " '_build_destination',\n",
       " '_build_field',\n",
       " '_build_outline_item',\n",
       " '_check_kids',\n",
       " '_encryption',\n",
       " '_find_eof_marker',\n",
       " '_find_startxref_pos',\n",
       " '_flatten',\n",
       " '_get_indirect_object',\n",
       " '_get_named_destinations',\n",
       " '_get_num_pages',\n",
       " '_get_object_from_stream',\n",
       " '_get_outline',\n",
       " '_get_page',\n",
       " '_get_page_number_by_indirect',\n",
       " '_get_xref_issues',\n",
       " '_override_encryption',\n",
       " '_page_id2num',\n",
       " '_pairs',\n",
       " '_read_pdf15_xref_stream',\n",
       " '_read_standard_xref_table',\n",
       " '_read_xref',\n",
       " '_read_xref_other_error',\n",
       " '_read_xref_subsections',\n",
       " '_read_xref_tables_and_trailers',\n",
       " '_rebuild_xref_table',\n",
       " '_write_field',\n",
       " 'cacheGetIndirectObject',\n",
       " 'cacheIndirectObject',\n",
       " 'cache_get_indirect_object',\n",
       " 'cache_indirect_object',\n",
       " 'decode_permissions',\n",
       " 'decrypt',\n",
       " 'documentInfo',\n",
       " 'flattened_pages',\n",
       " 'getDestinationPageNumber',\n",
       " 'getDocumentInfo',\n",
       " 'getFields',\n",
       " 'getFormTextFields',\n",
       " 'getIsEncrypted',\n",
       " 'getNamedDestinations',\n",
       " 'getNumPages',\n",
       " 'getObject',\n",
       " 'getOutlines',\n",
       " 'getPage',\n",
       " 'getPageLayout',\n",
       " 'getPageMode',\n",
       " 'getPageNumber',\n",
       " 'getXmpMetadata',\n",
       " 'get_destination_page_number',\n",
       " 'get_fields',\n",
       " 'get_form_text_fields',\n",
       " 'get_object',\n",
       " 'get_page_number',\n",
       " 'isEncrypted',\n",
       " 'is_encrypted',\n",
       " 'metadata',\n",
       " 'namedDestinations',\n",
       " 'named_destinations',\n",
       " 'numPages',\n",
       " 'outline',\n",
       " 'outlines',\n",
       " 'pageLayout',\n",
       " 'pageMode',\n",
       " 'page_layout',\n",
       " 'page_mode',\n",
       " 'pages',\n",
       " 'pdf_header',\n",
       " 'read',\n",
       " 'readNextEndLine',\n",
       " 'readObjectHeader',\n",
       " 'read_next_end_line',\n",
       " 'read_object_header',\n",
       " 'resolved_objects',\n",
       " 'stream',\n",
       " 'strict',\n",
       " 'threads',\n",
       " 'trailer',\n",
       " 'xfa',\n",
       " 'xmpMetadata',\n",
       " 'xmp_metadata',\n",
       " 'xref',\n",
       " 'xref_free_entry',\n",
       " 'xref_index',\n",
       " 'xref_objStm']"
      ]
     },
     "execution_count": 20,
     "metadata": {},
     "output_type": "execute_result"
    }
   ],
   "source": [
    "dir(pdf_reader)"
   ]
  },
  {
   "cell_type": "code",
   "execution_count": 85,
   "id": "7deb900f",
   "metadata": {},
   "outputs": [
    {
     "name": "stdout",
     "output_type": "stream",
     "text": [
      "14\n"
     ]
    }
   ],
   "source": [
    "totalPages = len(pdf_reader.pages)\n",
    "print(totalPages)"
   ]
  },
  {
   "cell_type": "code",
   "execution_count": 86,
   "id": "97a25c00",
   "metadata": {},
   "outputs": [],
   "source": [
    "metadata = pdf_reader.xmp_metadata\n",
    "metadata"
   ]
  },
  {
   "cell_type": "code",
   "execution_count": 87,
   "id": "2eed2cc2",
   "metadata": {},
   "outputs": [],
   "source": [
    "page = pdf_reader.pages[6]"
   ]
  },
  {
   "cell_type": "code",
   "execution_count": 88,
   "id": "cba9952d",
   "metadata": {},
   "outputs": [],
   "source": [
    "text = page.extract_text()"
   ]
  },
  {
   "cell_type": "code",
   "execution_count": 89,
   "id": "b05149b9",
   "metadata": {},
   "outputs": [
    {
     "data": {
      "text/plain": [
       "2212"
      ]
     },
     "execution_count": 89,
     "metadata": {},
     "output_type": "execute_result"
    }
   ],
   "source": [
    "len(text)"
   ]
  },
  {
   "cell_type": "code",
   "execution_count": 90,
   "id": "1232c032",
   "metadata": {},
   "outputs": [
    {
     "name": "stdout",
     "output_type": "stream",
     "text": [
      " /yehwithrehfinal /ِbehmedial /fathalow/khahinitial 45first (fg /alefmaksurafinal/fathaisolated /laminitial/wawisolated/dammaisolated /alefwithhamzaaboveisolated) /lamisolated/shaddawithfathaisolatedlow /wawisolated/fathaisolated/alefwithhamzaaboveisolated 82\n",
      "Lord; Sustainer /shaddalow/behisolated /fathalow/rehisolated 970 last (fg /tehmarbutaisolated/fathalow /rehfinal/ِ khahinitial/alefwithmaddaaboveisolated) /rehfinal/ِ khahinitial/alefwithmaddaaboveisolated 40\n",
      "Compassionate /noonfinal/meemmedial/sukunlow /hahinitial/fathalow /rehisolated 57[other (fg /alefmaksuraisolated /fathalow/rehfinal /sukunlow/khahinitial /dammaisolated/alefwithhamzaaboveisolated) /rehfinal/fathalow /khahinitial/alefwithmaddaaboveisolated] 65\n",
      "peace /meemisolated/aleffinal/fathaisolated /lammedial/fathalow /seeninitial 42trustworthy  /yehwithnoonfinal/ِ meeminitial/fathaisolated/alefwithhamzaaboveisolated 14\n",
      "one who listens /ainfinal /yehmedial /ِmeemmedial /fathalow/seeninitial 47one who sees clearly /yehwithrehfinal/ِ sadmedial/fathalow/behinitial 53\n",
      "grateful /rehisolated/wawfinal/dammaisolated/kafmedial/fathalow /sheeninitial 24far /dalfinal/yehmedial/ِ ainmedial/fathalow/behinitial 25\n",
      "mighty /zainfinal /yehinitial /ِzainfinal /fathalow/aininitial 99most forgiving /behisolated/alefisolated/shaddawithfathaisolatedlow /wawfinal/fathalow/tehinitial 11\n",
      "most forgiving /rehisolated/wawfinal/dammaisolated/fehmedial/fathaisolated /ghaininitial 91protector /zahfinal /yehmedial /ِfehmedial /fathalow/hahinitial 26\n",
      "All-powerful /rehfinal /yehinitial /ِdalfinal /fathaisolated/qafinitial 45wise /meemfinal /yehmedial /ِkafmedial /fathalow/hahinitial 97\n",
      "warner /rehfinal/yehinitial/ِ thalfinal/fathalow/nooninitial 44forbearing /meemfinal /yehmedial /ِlammedial /fathalow/hahinitial 15\n",
      "strong helper /yehwithrehfinal/ِ sadmedial/fathalow/nooninitial 24praiseworthy /dalfinal /yehmedial /ِmeemmedial /fathalow/hahinitial 17\n",
      " /lamfinal/yehmedial/ِ kafinitial/fathalow /wawisolated 24 /meemfinal /yehmedial /ِmeemmedial /fathalow/hahinitial 20\n",
      "Total words (of this page): 1977 Percent so far: 44Some attributes (of Allah and others ’)\n",
      "knowing,\n",
      "ever aware\n",
      "one who takes care of\n",
      "a thing for anotherwarm (friend);\n",
      "boiling water7\n"
     ]
    }
   ],
   "source": [
    "print(text)"
   ]
  }
 ],
 "metadata": {
  "kernelspec": {
   "display_name": "Python 3 (ipykernel)",
   "language": "python",
   "name": "python3"
  },
  "language_info": {
   "codemirror_mode": {
    "name": "ipython",
    "version": 3
   },
   "file_extension": ".py",
   "mimetype": "text/x-python",
   "name": "python",
   "nbconvert_exporter": "python",
   "pygments_lexer": "ipython3",
   "version": "3.10.9"
  }
 },
 "nbformat": 4,
 "nbformat_minor": 5
}
